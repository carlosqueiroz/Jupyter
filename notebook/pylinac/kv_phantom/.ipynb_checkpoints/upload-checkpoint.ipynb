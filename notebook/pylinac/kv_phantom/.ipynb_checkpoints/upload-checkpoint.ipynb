{
 "cells": [
  {
   "cell_type": "code",
   "execution_count": 1,
   "metadata": {},
   "outputs": [
    {
     "name": "stdout",
     "output_type": "stream",
     "text": [
      "Requirement already satisfied: python-dotenv in /opt/conda/lib/python3.7/site-packages (0.14.0)\n",
      "\u001b[33mWARNING: You are using pip version 20.1; however, version 20.2.4 is available.\n",
      "You should consider upgrading via the '/opt/conda/bin/python -m pip install --upgrade pip' command.\u001b[0m\n",
      "Note: you may need to restart the kernel to use updated packages.\n"
     ]
    }
   ],
   "source": [
    "pip install python-dotenv"
   ]
  },
  {
   "cell_type": "code",
   "execution_count": 2,
   "metadata": {},
   "outputs": [],
   "source": [
    "#! -*- encoding:utf-8 -*-\n",
    "import sys\n",
    "import json\n",
    "import os\n",
    "import requests\n",
    "import logging\n",
    "from time import time\n",
    "from multiprocessing.pool import ThreadPool\n",
    "from pprint import pprint\n",
    "import collections\n",
    "import pydicom\n",
    "from pathlib import Path\n",
    "from dotenv import load_dotenv\n",
    "\n",
    "class Dicomweb:\n",
    "    def __init__(self, url = None, client = None, path = None, user = None, password = None,):\n",
    "\n",
    "        self.Studies = None\n",
    "        self.ResonseSeriesObj = None\n",
    "        self.file = None\n",
    "        self.fileArr = None\n",
    "        self.ResonseStudiesJson = None\n",
    "        self.ResonseSeriesJson = None\n",
    "        self.user = None\n",
    "        self.password = None\n",
    "        self.client = client\n",
    "\n",
    "\n",
    "        if url is None:\n",
    "            self.url = 'http://safe.safetyrad.com/api/dicom'\n",
    "        else:\n",
    "            self.url = url\n",
    "       \n",
    "\n",
    "        if path is None:\n",
    "            self.path = '/home/dicom'\n",
    "        else:\n",
    "            self.path = path\n",
    "       \n",
    "    def hasTag(self,ds,tag):\n",
    "        try:\n",
    "            re = ds[tag].value\n",
    "        except:\n",
    "            re = None\n",
    "        return re\n",
    "        \n",
    "    def sendFile(self,listOfFiles):\n",
    "        for elem in listOfFiles:        \n",
    "            try:\n",
    "                ds = pydicom.dcmread(elem)\n",
    "                #print(ds.ProtocolName)\n",
    "                #print(ds)\n",
    "                # a[0x0018, 0x1151].value,\n",
    "        \n",
    " \n",
    "                with open(elem, 'rb') as f:\n",
    "                    form = {\n",
    "                            'client':self.client,\n",
    "                            'ProtocolName':self.hasTag(ds,'ProtocolName'),\n",
    "                            'Modality':self.hasTag(ds,'Modality'),\n",
    "                            'Manufacturer': self.hasTag(ds,'Manufacturer'),\n",
    "                            'PatientName': self.hasTag(ds,'PatientName'),\n",
    "                            'PatientID': self.hasTag(ds,'PatientID'),\n",
    "                            'PatientBirthDate': self.hasTag(ds,'PatientBirthDate'),\n",
    "                            'PatientSex': self.hasTag(ds,'PatientSex'),\n",
    "                            'PatientComments': self.hasTag(ds,'PatientComments'),\n",
    "                            'InstitutionName': self.hasTag(ds,'InstitutionName'),\n",
    "                            'InstitutionAddress': self.hasTag(ds,'InstitutionAddress'),\n",
    "                            'StationName': self.hasTag(ds,'StationName'),\n",
    "                            'SeriesDescription': self.hasTag(ds,'SeriesDescription'),\n",
    "                            'InstitutionalDepartmentName': self.hasTag(ds,'InstitutionalDepartmentName'),\n",
    "                            'BodyPartExamined': self.hasTag(ds,'BodyPartExamined'),\n",
    "                            'SliceThickness': self.hasTag(ds,'SliceThickness'),\n",
    "                            'DeviceSerialNumber': self.hasTag(ds,'DeviceSerialNumber'),                           \n",
    "                            'StudyInstanceUID': self.hasTag(ds,'StudyInstanceUID'),\n",
    "                            'SeriesInstanceUID': self.hasTag(ds,'SeriesInstanceUID'),\n",
    "                            'StudyID': self.hasTag(ds,'StudyID'),\n",
    "                            'SeriesNumber': self.hasTag(ds,'SeriesNumber'),\n",
    "                            'SOPClassUID': self.hasTag(ds,'SOPClassUID'),\n",
    "                            'SOPInstanceUID': self.hasTag(ds,'SOPInstanceUID'),\n",
    "                            'AcquisitionDate': self.hasTag(ds,'AcquisitionDate'),\n",
    "                            'ExposureTime': self.hasTag(ds,'ExposureTime'),\n",
    "                            \n",
    " \n",
    "\n",
    "                           }\n",
    "                    r = requests.post(self.url, files={'file': f},data=form)\n",
    "                    \n",
    "                    if r.status_code == 200:\n",
    "                        print(r.status_code)\n",
    "                        #print(r.text)\n",
    "                        print(elem)\n",
    "                        os.remove(elem)\n",
    "\n",
    "            \n",
    "\n",
    "            except:\n",
    "                logging.warning(\"Não é DICOM\")\n",
    "\n",
    "                          \n",
    "    def getListOfFiles(self):\n",
    "        # Get the list of all files in directory tree at given path\n",
    "        listOfFiles = list()\n",
    "        for (dirpath, dirnames, filenames) in os.walk(self.path):\n",
    "            listOfFiles += [os.path.join(dirpath, file) for file in filenames]\n",
    "        return listOfFiles\n",
    "\n",
    "\n",
    "      \n",
    "      \n"
   ]
  },
  {
   "cell_type": "code",
   "execution_count": 3,
   "metadata": {},
   "outputs": [
    {
     "name": "stdout",
     "output_type": "stream",
     "text": [
      "11111\n"
     ]
    },
    {
     "name": "stderr",
     "output_type": "stream",
     "text": [
      "WARNING:root:Não é DICOM\n"
     ]
    },
    {
     "name": "stdout",
     "output_type": "stream",
     "text": [
      "200\n",
      "dcm/ct/2/1.2.392.200036.9116.2.6.1.3268.2051117138.1585617531.20187.dcm\n"
     ]
    },
    {
     "name": "stderr",
     "output_type": "stream",
     "text": [
      "WARNING:root:Não é DICOM\n",
      "WARNING:root:Não é DICOM\n",
      "WARNING:root:Não é DICOM\n"
     ]
    },
    {
     "name": "stdout",
     "output_type": "stream",
     "text": [
      "200\n",
      "dcm/ct/2/1.2.392.200036.9116.2.6.1.3268.2051117138.1585615608.275851.dcm\n"
     ]
    },
    {
     "name": "stderr",
     "output_type": "stream",
     "text": [
      "WARNING:root:Não é DICOM\n",
      "WARNING:root:Não é DICOM\n",
      "WARNING:root:Não é DICOM\n"
     ]
    },
    {
     "name": "stdout",
     "output_type": "stream",
     "text": [
      "200\n",
      "dcm/ct/2/1.2.392.200036.9116.2.6.1.3268.2051117138.1585615603.173787.dcm\n"
     ]
    },
    {
     "name": "stderr",
     "output_type": "stream",
     "text": [
      "WARNING:root:Não é DICOM\n",
      "WARNING:root:Não é DICOM\n",
      "WARNING:root:Não é DICOM\n",
      "WARNING:root:Não é DICOM\n",
      "WARNING:root:Não é DICOM\n"
     ]
    },
    {
     "name": "stdout",
     "output_type": "stream",
     "text": [
      "200\n",
      "dcm/ct/2/1.2.392.200036.9116.2.6.1.3268.2051117138.1585615608.773023.dcm\n"
     ]
    },
    {
     "name": "stderr",
     "output_type": "stream",
     "text": [
      "WARNING:root:Não é DICOM\n",
      "WARNING:root:Não é DICOM\n"
     ]
    },
    {
     "name": "stdout",
     "output_type": "stream",
     "text": [
      "200\n",
      "dcm/ct/2/1.2.392.200036.9116.2.6.1.3268.2051117138.1585617517.921806.dcm\n"
     ]
    },
    {
     "name": "stderr",
     "output_type": "stream",
     "text": [
      "WARNING:root:Não é DICOM\n"
     ]
    },
    {
     "name": "stdout",
     "output_type": "stream",
     "text": [
      "200\n",
      "dcm/ct/2/1.2.392.200036.9116.2.6.1.3268.2051117138.1585615607.345990.dcm\n"
     ]
    },
    {
     "name": "stderr",
     "output_type": "stream",
     "text": [
      "WARNING:root:Não é DICOM\n"
     ]
    },
    {
     "name": "stdout",
     "output_type": "stream",
     "text": [
      "200\n",
      "dcm/ct/2/1.2.392.200036.9116.2.6.1.3268.2051117138.1585617518.124031.dcm\n"
     ]
    },
    {
     "name": "stderr",
     "output_type": "stream",
     "text": [
      "WARNING:root:Não é DICOM\n",
      "WARNING:root:Não é DICOM\n",
      "WARNING:root:Não é DICOM\n"
     ]
    },
    {
     "name": "stdout",
     "output_type": "stream",
     "text": [
      "200\n",
      "dcm/ct/2/1.2.392.200036.9116.2.6.1.3268.2051117138.1585617530.805805.dcm\n"
     ]
    },
    {
     "name": "stderr",
     "output_type": "stream",
     "text": [
      "WARNING:root:Não é DICOM\n",
      "WARNING:root:Não é DICOM\n",
      "WARNING:root:Não é DICOM\n",
      "WARNING:root:Não é DICOM\n",
      "WARNING:root:Não é DICOM\n",
      "WARNING:root:Não é DICOM\n"
     ]
    },
    {
     "name": "stdout",
     "output_type": "stream",
     "text": [
      "200\n",
      "dcm/ct/2/1.2.392.200036.9116.2.6.1.3268.2051117138.1585615605.968844.dcm\n"
     ]
    },
    {
     "name": "stderr",
     "output_type": "stream",
     "text": [
      "WARNING:root:Não é DICOM\n",
      "WARNING:root:Não é DICOM\n",
      "WARNING:root:Não é DICOM\n"
     ]
    },
    {
     "name": "stdout",
     "output_type": "stream",
     "text": [
      "200\n",
      "dcm/ct/2/1.2.392.200036.9116.2.6.1.3268.2051117138.1585617518.340679.dcm\n"
     ]
    },
    {
     "name": "stderr",
     "output_type": "stream",
     "text": [
      "WARNING:root:Não é DICOM\n",
      "WARNING:root:Não é DICOM\n"
     ]
    },
    {
     "name": "stdout",
     "output_type": "stream",
     "text": [
      "200\n",
      "dcm/ct/2/1.2.392.200036.9116.2.6.1.3268.2051117138.1585615602.541556.dcm\n"
     ]
    },
    {
     "name": "stderr",
     "output_type": "stream",
     "text": [
      "WARNING:root:Não é DICOM\n",
      "WARNING:root:Não é DICOM\n"
     ]
    },
    {
     "name": "stdout",
     "output_type": "stream",
     "text": [
      "200\n",
      "dcm/ct/2/1.2.392.200036.9116.2.6.1.3268.2051117138.1585617518.554116.dcm\n"
     ]
    },
    {
     "name": "stderr",
     "output_type": "stream",
     "text": [
      "WARNING:root:Não é DICOM\n"
     ]
    },
    {
     "name": "stdout",
     "output_type": "stream",
     "text": [
      "200\n",
      "dcm/ct/2/1.2.392.200036.9116.2.6.1.3268.2051117138.1585615609.477390.dcm\n"
     ]
    },
    {
     "name": "stderr",
     "output_type": "stream",
     "text": [
      "WARNING:root:Não é DICOM\n",
      "WARNING:root:Não é DICOM\n",
      "WARNING:root:Não é DICOM\n"
     ]
    },
    {
     "name": "stdout",
     "output_type": "stream",
     "text": [
      "200\n",
      "dcm/ct/2/1.2.392.200036.9116.2.6.1.3268.2051117138.1585615608.180662.dcm\n"
     ]
    },
    {
     "name": "stderr",
     "output_type": "stream",
     "text": [
      "WARNING:root:Não é DICOM\n",
      "WARNING:root:Não é DICOM\n"
     ]
    },
    {
     "name": "stdout",
     "output_type": "stream",
     "text": [
      "200\n",
      "dcm/ct/2/1.2.392.200036.9116.2.6.1.3268.2051117138.1585615602.833846.dcm\n"
     ]
    },
    {
     "name": "stderr",
     "output_type": "stream",
     "text": [
      "WARNING:root:Não é DICOM\n"
     ]
    },
    {
     "name": "stdout",
     "output_type": "stream",
     "text": [
      "200\n",
      "dcm/ct/2/1.2.392.200036.9116.2.6.1.3268.2051117138.1585615608.943470.dcm\n"
     ]
    },
    {
     "name": "stderr",
     "output_type": "stream",
     "text": [
      "WARNING:root:Não é DICOM\n"
     ]
    },
    {
     "name": "stdout",
     "output_type": "stream",
     "text": [
      "200\n",
      "dcm/ct/2/1.2.392.200036.9116.2.6.1.3268.2051117138.1585615609.616387.dcm\n"
     ]
    },
    {
     "name": "stderr",
     "output_type": "stream",
     "text": [
      "WARNING:root:Não é DICOM\n",
      "WARNING:root:Não é DICOM\n"
     ]
    },
    {
     "name": "stdout",
     "output_type": "stream",
     "text": [
      "200\n",
      "dcm/ct/2/1.2.392.200036.9116.2.6.1.3268.2051117138.1585617530.381968.dcm\n"
     ]
    },
    {
     "name": "stderr",
     "output_type": "stream",
     "text": [
      "WARNING:root:Não é DICOM\n"
     ]
    },
    {
     "name": "stdout",
     "output_type": "stream",
     "text": [
      "200\n",
      "dcm/ct/2/1.2.392.200036.9116.2.6.1.3268.2051117138.1585615606.882996.dcm\n"
     ]
    },
    {
     "name": "stderr",
     "output_type": "stream",
     "text": [
      "WARNING:root:Não é DICOM\n",
      "WARNING:root:Não é DICOM\n",
      "WARNING:root:Não é DICOM\n",
      "WARNING:root:Não é DICOM\n"
     ]
    },
    {
     "name": "stdout",
     "output_type": "stream",
     "text": [
      "200\n",
      "dcm/ct/2/1.2.392.200036.9116.2.6.1.3268.2051117138.1585615609.266334.dcm\n"
     ]
    },
    {
     "name": "stderr",
     "output_type": "stream",
     "text": [
      "WARNING:root:Não é DICOM\n"
     ]
    },
    {
     "name": "stdout",
     "output_type": "stream",
     "text": [
      "200\n",
      "dcm/ct/2/1.2.392.200036.9116.2.6.1.3268.2051117138.1585615606.440263.dcm\n"
     ]
    },
    {
     "name": "stderr",
     "output_type": "stream",
     "text": [
      "WARNING:root:Não é DICOM\n"
     ]
    },
    {
     "name": "stdout",
     "output_type": "stream",
     "text": [
      "200\n",
      "dcm/ct/2/1.2.392.200036.9116.2.6.1.3268.2051117138.1585615608.569912.dcm\n"
     ]
    },
    {
     "name": "stderr",
     "output_type": "stream",
     "text": [
      "WARNING:root:Não é DICOM\n",
      "WARNING:root:Não é DICOM\n",
      "WARNING:root:Não é DICOM\n"
     ]
    },
    {
     "name": "stdout",
     "output_type": "stream",
     "text": [
      "200\n",
      "dcm/ct/2/1.2.392.200036.9116.2.6.1.3268.2051117138.1585615608.3403.dcm\n"
     ]
    },
    {
     "name": "stderr",
     "output_type": "stream",
     "text": [
      "WARNING:root:Não é DICOM\n",
      "WARNING:root:Não é DICOM\n"
     ]
    },
    {
     "name": "stdout",
     "output_type": "stream",
     "text": [
      "200\n",
      "dcm/ct/2/1.2.392.200036.9116.2.6.1.3268.2051117138.1585615603.497353.dcm\n"
     ]
    },
    {
     "name": "stderr",
     "output_type": "stream",
     "text": [
      "WARNING:root:Não é DICOM\n",
      "WARNING:root:Não é DICOM\n"
     ]
    },
    {
     "name": "stdout",
     "output_type": "stream",
     "text": [
      "200\n",
      "dcm/ct/2/1.2.392.200036.9116.2.6.1.3268.2051117138.1585617530.586146.dcm\n"
     ]
    }
   ],
   "source": [
    "#READ ENV FILE /home/www\n",
    "env_path = Path('.') / '.env'\n",
    "load_dotenv(dotenv_path=env_path)\n",
    "\n",
    "FOLDER = 'dcm/ct/2'\n",
    "CLIENTE_CNPJ = os.getenv(\"CLIENTE_CNPJ\")\n",
    "CLIENTE_LOGIN = os.getenv(\"CLIENTE_LOGIN\")\n",
    "CLIENTE_KEY = os.getenv(\"CLIENTE_KEY\")\n",
    "URL = os.getenv(\"URL\")\n",
    "SECRET_KEY = os.getenv(\"CLIENTE_CNPJ\")\n",
    "PORT = os.getenv(\"PORT\")\n",
    "\n",
    "\n",
    "\n",
    "#CALL FUNCTIONS\n",
    "dcm = Dicomweb(URL,CLIENTE_CNPJ,FOLDER,CLIENTE_LOGIN,CLIENTE_KEY)\n",
    "allFiles = dcm.getListOfFiles()\n",
    "dcm.sendFile(allFiles)\n",
    "\n",
    "\n"
   ]
  },
  {
   "cell_type": "code",
   "execution_count": null,
   "metadata": {},
   "outputs": [],
   "source": []
  },
  {
   "cell_type": "code",
   "execution_count": null,
   "metadata": {},
   "outputs": [],
   "source": []
  },
  {
   "cell_type": "code",
   "execution_count": null,
   "metadata": {},
   "outputs": [],
   "source": []
  }
 ],
 "metadata": {
  "kernelspec": {
   "display_name": "Python 3",
   "language": "python",
   "name": "python3"
  },
  "language_info": {
   "codemirror_mode": {
    "name": "ipython",
    "version": 3
   },
   "file_extension": ".py",
   "mimetype": "text/x-python",
   "name": "python",
   "nbconvert_exporter": "python",
   "pygments_lexer": "ipython3",
   "version": "3.7.6"
  }
 },
 "nbformat": 4,
 "nbformat_minor": 4
}
