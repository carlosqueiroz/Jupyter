{
 "cells": [
  {
   "cell_type": "code",
   "execution_count": 117,
   "metadata": {},
   "outputs": [
    {
     "name": "stdout",
     "output_type": "stream",
     "text": [
      "File      Path: /home/jovyan/work/pylinac/tests_basic/log_imrt\n",
      "Directory Path: /home/jovyan/work/pylinac/tests_basic\n",
      "11 logs found.\n",
      "Log loaded: 11 of 11\n",
      "Results of file: /home/jovyan/work/pylinac/tests_basic/log_imrt/B20200717181935_16506.dlg\n",
      "Average RMS of all leaves: 0.065 mm\n",
      "Max RMS error of all leaves: 0.335 mm\n",
      "95th percentile error: 0.236 mm\n",
      "Number of beam holdoffs: 0\n",
      "Gamma pass %: 100.00\n",
      "Gamma average: 0.001\n",
      "\n",
      "None\n",
      "[[0. 0. 0. ... 0. 0. 0.]\n",
      " [0. 0. 0. ... 0. 0. 0.]\n",
      " [0. 0. 0. ... 0. 0. 0.]\n",
      " ...\n",
      " [0. 0. 0. ... 0. 0. 0.]\n",
      " [0. 0. 0. ... 0. 0. 0.]\n",
      " [0. 0. 0. ... 0. 0. 0.]]\n",
      "[[0. 0. 0. ... 0. 0. 0.]\n",
      " [0. 0. 0. ... 0. 0. 0.]\n",
      " [0. 0. 0. ... 0. 0. 0.]\n",
      " ...\n",
      " [0. 0. 0. ... 0. 0. 0.]\n",
      " [0. 0. 0. ... 0. 0. 0.]\n",
      " [0. 0. 0. ... 0. 0. 0.]]\n",
      "100.0\n",
      "0.0015742252126208019\n"
     ]
    },
    {
     "name": "stderr",
     "output_type": "stream",
     "text": [
      "Tlog.bin: 5.62MB [00:04, 1.31MB/s]                            \n"
     ]
    }
   ],
   "source": [
    "#//192.168.10.10/fisica/1-CQ/RSS Bocaiuva/Dynalogs Files/dynalogs    \n",
    "\n",
    "#https://www.ncbi.nlm.nih.gov/pmc/articles/PMC5875466/\n",
    "\n",
    "\n",
    "from pathlib import Path\n",
    "\n",
    "__file__ = \"log_imrt\" \n",
    "print(\"File      Path:\", Path(__file__).absolute())\n",
    "print(\"Directory Path:\", Path().absolute()) # Directory of current working directory, not __file__  \n",
    "\n",
    "log_path = r\"/home/jovyan/work/pylinac/tests_basic/log_imrt\"\n",
    "\n",
    "from pylinac import MachineLogs, Dynalog\n",
    "from pylinac import load_log\n",
    "from pylinac.log_analyzer import IMAGING\n",
    "from tests_basic.utils import DataBankMixin\n",
    "\n",
    "\n",
    "from reportlab.lib.units import cm\n",
    "from pylinac.settings import get_array_cmap\n",
    "import os\n",
    "import numpy\n",
    "from pylinac import image\n",
    "from pylinac.core.profile import SingleProfile, MultiProfile\n",
    "from pylinac import Dynalog, TrajectoryLog, MachineLogs\n",
    "\n",
    "\n",
    "logs = MachineLogs(log_path)\n",
    "\n",
    "logs[1].report_basic_parameters()\n",
    "\n",
    "print(logs[1].axis_data.mu.plot_actual()) # calculate the actual fluence; returns a numpy array\n",
    "print(logs[1].fluence.expected.calc_map(resolution=1)) # calculate at 1mm resolution\n",
    "print(logs[1].fluence.gamma.calc_map(distTA=0.5, doseTA=1, resolution=0.1))  # change the gamma criteria\n",
    "print(logs[1].fluence.gamma.pass_prcnt)  # the gamma passing percentage\n",
    "print(logs[1].fluence.gamma.avg_gamma)  # the average gamma value\n",
    "\n",
    "\n",
    "\n",
    "#logs[1].axis_data.mu.plot_actual()\n",
    "\n",
    "#print(logs.avg_gamma(resolution=0.2))\n",
    "\n",
    "\n",
    "      "
   ]
  },
  {
   "cell_type": "code",
   "execution_count": null,
   "metadata": {},
   "outputs": [],
   "source": []
  }
 ],
 "metadata": {
  "kernelspec": {
   "display_name": "Python 3",
   "language": "python",
   "name": "python3"
  },
  "language_info": {
   "codemirror_mode": {
    "name": "ipython",
    "version": 3
   },
   "file_extension": ".py",
   "mimetype": "text/x-python",
   "name": "python",
   "nbconvert_exporter": "python",
   "pygments_lexer": "ipython3",
   "version": "3.7.6"
  }
 },
 "nbformat": 4,
 "nbformat_minor": 4
}
