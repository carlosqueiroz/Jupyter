{
 "cells": [
  {
   "cell_type": "code",
   "execution_count": null,
   "metadata": {},
   "outputs": [],
   "source": []
  },
  {
   "cell_type": "code",
   "execution_count": 21,
   "metadata": {},
   "outputs": [],
   "source": [
    "import os\n",
    "import shutil\n",
    "import subprocess\n",
    "import logging\n",
    "from time import time\n",
    "import multiprocessing\n",
    "from pprint import pprint\n",
    "import collections\n",
    "\n",
    "import json\n",
    "import pydicom\n",
    "import numpy as np\n",
    "from scipy.sparse import csc_matrix\n",
    "import math\n",
    "import matplotlib.pyplot as plt\n",
    "import numpy.matlib\n",
    "from scipy import interpolate\n",
    "from datetime import datetime\n",
    "\n",
    "import os.path as osp\n",
    "import tempfile\n",
    "from unittest import TestCase\n",
    "\n",
    "import matplotlib.pyplot as plt\n",
    "import numpy as np\n",
    "\n",
    "from pylinac.core.geometry import Point\n",
    "from pylinac import Starshot\n",
    "from tests_basic.utils import save_file, LoadingTestBase, LocationMixin\n",
    "\n",
    "\n",
    "\n",
    "from pylinac import LeedsTOR\n",
    "from pylinac import StandardImagingQC3\n",
    "\n",
    "\n",
    "plt.close('all')\n",
    "TEST_DIR = osp.join('/', 'test_files', 'Planar')\n",
    " \n",
    "\n",
    "leeds = LeedsTOR('test_files/Planar/Leeds_ccw.dcm')\n",
    "leeds.analyze(0.01,0.5)\n",
    "leeds.plot_analyzed_image()\n",
    "leeds.save_analyzed_image('test_files/Planar/myprofile.png')\n",
    "#leeds.publish_pdf('test_files/Planar/leeds_october16.pdf')\n",
    "\n",
    "\n",
    "qc3 = StandardImagingQC3('test_files/Planar/QC3 2.5MV 2.dcm')\n",
    "\n",
    "qc3.plot_analyzed_image(low_contrast=False)\n",
    "\n",
    "qc3.save_analyzed_image('test_files/Planar/myqc3.png')\n"
   ]
  },
  {
   "cell_type": "markdown",
   "metadata": {},
   "source": [
    "Tutorial\n",
    "\n",
    "https://github.com/jrkerns/pylinac/blob/a9fd2a24eab617af4cf134fe2c5c09e45fad8119/pylinac/planar_imaging.py\n",
    "    \n",
    "    \n",
    "   https://github.com/jrkerns/pylinac/blob/a9fd2a24eab617af4cf134fe2c5c09e45fad8119/docs/source/planar_imaging.rst"
   ]
  },
  {
   "cell_type": "code",
   "execution_count": null,
   "metadata": {},
   "outputs": [],
   "source": []
  }
 ],
 "metadata": {
  "kernelspec": {
   "display_name": "Python 3",
   "language": "python",
   "name": "python3"
  },
  "language_info": {
   "codemirror_mode": {
    "name": "ipython",
    "version": 3
   },
   "file_extension": ".py",
   "mimetype": "text/x-python",
   "name": "python",
   "nbconvert_exporter": "python",
   "pygments_lexer": "ipython3",
   "version": "3.7.6"
  }
 },
 "nbformat": 4,
 "nbformat_minor": 4
}
